{
 "cells": [
  {
   "cell_type": "code",
   "execution_count": 2,
   "metadata": {},
   "outputs": [
    {
     "name": "stdout",
     "output_type": "stream",
     "text": [
      "47\n"
     ]
    }
   ],
   "source": [
    "##parser\n",
    "\n",
    "import os\n",
    "from bs4 import BeautifulSoup\n",
    "\n",
    "files = os.listdir(\".\")\n",
    "\n",
    "profiles = []\n",
    "\n",
    "for f in files:\n",
    "    if f.endswith(\".html\"):\n",
    "        with open(f, encoding='utf-8') as fp:\n",
    "            soup = BeautifulSoup(fp)\n",
    "            #print(soup.find_all(\"h3\", {'class': 'profile-section-card__title'})[0].get_text())\n",
    "            education = soup.find_all(\"h3\", {'class': 'profile-section-card__title'})[0].get_text().strip()\n",
    "            spans = soup.find_all('span',{'class':'education__item education__item--degree-info'})\n",
    "            jobs = [span.get_text().strip() for span in spans]\n",
    "            profiles.append({'job': jobs, 'education': education})\n",
    "            \n",
    "\n",
    "print(len(profiles))"
   ]
  },
  {
   "cell_type": "code",
   "execution_count": null,
   "metadata": {},
   "outputs": [],
   "source": []
  },
  {
   "cell_type": "code",
   "execution_count": null,
   "metadata": {},
   "outputs": [],
   "source": []
  }
 ],
 "metadata": {
  "kernelspec": {
   "display_name": "Python 3",
   "language": "python",
   "name": "python3"
  },
  "language_info": {
   "codemirror_mode": {
    "name": "ipython",
    "version": 3
   },
   "file_extension": ".py",
   "mimetype": "text/x-python",
   "name": "python",
   "nbconvert_exporter": "python",
   "pygments_lexer": "ipython3",
   "version": "3.8.3"
  }
 },
 "nbformat": 4,
 "nbformat_minor": 4
}
