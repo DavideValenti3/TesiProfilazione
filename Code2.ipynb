{
 "cells": [
  {
   "cell_type": "code",
   "execution_count": 5,
   "metadata": {},
   "outputs": [],
   "source": [
    "import json\n",
    "\n",
    "def inList(array , dictionary):\n",
    "    for lval in array:\n",
    "        for key, val in dictionary.items():\n",
    "               for v in val:\n",
    "                    if v in lval:\n",
    "                          return key\n",
    "                        \n",
    "def inDict(string, dictionary):\n",
    "    for key, val in dictionary.items():\n",
    "        for v in val:\n",
    "            if string.lower() in v.lower():\n",
    "                return key\n",
    "                        \n",
    "def mapDegInfo(array):\n",
    "    if len(array) % 2 > 2:\n",
    "        return 'Magistrale'\n",
    "    else:\n",
    "        return 'Triennale'\n",
    "    \n",
    "def calcGraduationYears(degInfo, dateRanges):\n",
    "    if dateRanges[0] < dateRanges[1]:\n",
    "        return int(dateRanges[1])\n",
    "    else:\n",
    "        if degInfo == 'Triennale' or degInfo == 'Dottorato':\n",
    "            return int(dateRanges[0]) + 3\n",
    "        else:\n",
    "            return int(dateRanges[0]) + 2    \n",
    "    \n",
    "    \n",
    "degreeInfo = {\n",
    "    'Dottorato': ['Dottorato', 'Phd','PhD','PHD', 'P.h.D', 'P.h.d','P.H.D'],\n",
    "    'Magistrale': ['Magistrale','magistrale','specialistica','Specialistica',\"Master's\",\"master's\"],\n",
    "    'Triennale': ['Triennale',\"Bachelor's\",'triennale']\n",
    "}\n",
    "\n",
    "nameWrapperFile = 'nameWrapper.json'\n",
    "nameWrapper = {}\n",
    "\n",
    "jobLevelWrapperFile = 'jobLevelWrapper.json'\n",
    "jobLevelWrapper = {}\n",
    "\n",
    "jobWrapperFile = 'jobWrapper.json'\n",
    "educationWrapperFile = 'educationWrapper.json'\n",
    "\n",
    "jobWrapper = {}\n",
    "educationWrapper = {} \n",
    "\n",
    "with open(nameWrapperFile) as json_name_wrapper:\n",
    "    nameWrapper = json.load(json_name_wrapper)\n",
    "\n",
    "with open(jobLevelWrapperFile) as json_job_level_wrapper:\n",
    "    jobLevelWrapper = json.load(json_job_level_wrapper)    \n",
    "\n",
    "with open(jobWrapperFile) as json_job_wrapper:\n",
    "    jobWrapper = json.load(json_job_wrapper)\n",
    "\n",
    "with open(educationWrapperFile) as json_edu_wrapper:\n",
    "    educationWrapper = json.load(json_edu_wrapper)\n",
    "    \n",
    "tag = ['h3', 'span']\n",
    "classes = ['education__item education__item--degree-info','pv-entity__comma-item','pv-entity__school-name t-16 t-black t-bold', 't-16 t-black t-bold','profile-section-card__title']"
   ]
  },
  {
   "cell_type": "markdown",
   "metadata": {},
   "source": [
    "<h1>Snippets</h1>\n",
    "\n",
    "<p>In this first cell i decided to incapsulate all accessories functions and snippets that i will use in further code. Going into details there are three functions and other data structures used to scrape out some additional data from already processed html tags, now i proceed to explain their behaviour while i will explain how i use them the scraping section.\n",
    "</p> \n",
    "\n",
    "<p>\n",
    "<h3>Accessories Functions</h3><br>\n",
    "<dl>\n",
    "    <dt><bold><code>def inList(array, dictionary):</code></bold></dt>\n",
    "    <dd>This function basically loop over all the elements of the array given as the first argument, and over the key value pair of the dictionary and if one of the values in the dictionary is contained in the array it returns the associated key </dd>\n",
    "    <dt><bold><code>def inDict(string, dictionary):</code></bold></dt>\n",
    "    <dd>similarly to the previous function described, this one takes as the first argument a string instead and loops over each value and key of the dictionary to check wether the string is contained as value of the dictionary and if so returns the associated key</dd>\n",
    "    <dt><bold><code>def mapDegInfo(array)</code></bold></dt>\n",
    "    <dd>This function check for the lenght of the array and if it exceeds two element it will return magistrale, otherwise it will return triennale</dd>\n",
    "    <dt><bold><code>def calcGraduationYears(degInfo, dateRanges)</code></bold></dt>\n",
    "    <dd>it estimates the graduation years for those fields where the graduation year is not available, depending on the currently enrolled degree</dd>\n",
    "</dl>\n",
    "</p>\n",
    "\n",
    "<p>\n",
    "<h3>Data structures</h3><br>\n",
    "<dl>\n",
    "    <dt><bold><code>degreeInfo</code></bold></dt>\n",
    "    <dd>is a dictionary that incapsulates different kind of degrees and it is used to map through key the type of degree given the listed values.</dd>\n",
    "    <dt><bold><code>nameWrapper</code></bold></dt>\n",
    "    <dd>initially declared as empty, it is filled by entries that are stored in a json file format including key-value mapping that are used to infer the gender of an individual by her/his name</dd>\n",
    "    <dt><bold><code>JobLevelWrapper</code></bold></dt>\n",
    "    <dd>initially declared as empty, it is filled by entries that are stored in a json file format including key-value mapping that are used to infer the job qualification from the specific job</dd>\n",
    "    <dt><bold><code>JobWrapper</code></bold></dt>\n",
    "    <dd>initially declared as empty, it is filled by entries that are stored in a json file format including key-value mapping that are used to infer the job</dd>\n",
    "    <dt><bold><code>EducationWrapper</code></bold></dt>\n",
    "    <dd>initially declared as empty, it is filled by entries that are stored in a json file format including key-value mapping that are used to infer the education field</dd>\n",
    "    <dt><bold><code>tag</code></bold></dt>\n",
    "    <dd>in this array i encapsulate all of those html tag element that will be scraped in further code, thus containing elements of interest for the dataset of profiles </dd>\n",
    "    <dt><bold><code>classes</code></bold></dt>\n",
    "    <dd>in this array i encapsulate all of those class attributes of html tag element that will be scraped in further code</dd>\n",
    "</dl>\n",
    "</p>\n",
    "\n"
   ]
  },
  {
   "cell_type": "code",
   "execution_count": 3,
   "metadata": {
    "scrolled": false
   },
   "outputs": [
    {
     "name": "stdout",
     "output_type": "stream",
     "text": [
      "[[['Training Specialist', 'Training Specialist', 'Legal Assistant Paralegal', 'Legal Affairs Specialist'], ['Master di I livello', 'Politiche di Sicurezza e Polizie Locali', 'Laurea Magistrale  LM in Giurisprudenza', 'Ragioniere perito commerciale - programmatore'], 'Magistrale', ['2015', '2009', '2014', '2004', '2009'], 'F', 'Quadro'], [[\"Esperienze di Lavoro all'Estero come Care Assistant,Barman,Waiter\"], ['Scienze Politiche,Sociali ed Internazionali', 'Curriculum Sociologia', 'Diploma', 'Liceo Scientifico'], 'Triennale', ['2014', '2016', '2006', '2011'], 'M', 'Impiegato']]\n"
     ]
    }
   ],
   "source": [
    "import os\n",
    "import numpy as np\n",
    "import csv\n",
    "import re\n",
    "from bs4 import BeautifulSoup\n",
    "\n",
    "files = os.listdir(\".\")\n",
    "\n",
    "experiences = []\n",
    "educations = []\n",
    "\n",
    "profiles = []\n",
    "\n",
    "for f in files:\n",
    "    if f.endswith(\".html\"):\n",
    "        with open(f, encoding='utf-8') as fp:\n",
    "            soup = BeautifulSoup(fp)\n",
    "            nameTags = (soup.find('h1', {'class':c}) for c in ['top-card-layout__title', 'text-heading-xlarge inline t-24 v-align-middle break-words'])\n",
    "            nameText = next((nameTag for nameTag in nameTags if nameTag is not None), \"\")\n",
    "            firstName = \"\"\n",
    "            if nameText != \"\":\n",
    "                firstName = nameText.get_text().strip().split(' ')[0].lower()\n",
    "            gender = inList([firstName], nameWrapper)    \n",
    "            regex = re.compile('.*experience.*')\n",
    "            experienceSection = soup.find('section', {'class':regex})\n",
    "            for el in experienceSection.find_all('span', {'class':'visually-hidden'}): el.decompose()\n",
    "            experienceTags = (experienceSection.find_all(t, {'class': c}) for t in tag for c in classes)\n",
    "            expText = next((exp for exp in experienceTags if len(exp) > 0), \"\")\n",
    "            experience = [el.get_text().strip() for el in expText if el != \"\"]\n",
    "            workLevel = inList(experience, jobLevelWrapper)\n",
    "            regexEd = re.compile('.*education.*')\n",
    "            educationSection = soup.find('section', {'class':regexEd})\n",
    "            educationTags = (educationSection.find_all(tag[1], {'class':c}) for c in classes)\n",
    "            edText = next((ed for ed in educationTags if len(ed) > 0), \"\")\n",
    "            education = [el.get_text().strip() for el in edText if el != \"\"]\n",
    "            educationTimes = [el.get_text() for el in educationSection.find_all('time')]\n",
    "            infoDeg = inList(education, degreeInfo) if inList(education, degreeInfo) is not None else mapDegInfo(education)        \n",
    "            profiles.append([experience, education, infoDeg, educationTimes, gender, workLevel])\n",
    "\n",
    "print(profiles[:2])"
   ]
  },
  {
   "cell_type": "markdown",
   "metadata": {},
   "source": [
    "<h1>Scraping section</h1>\n",
    "\n",
    "<p>In this first huge part of code above i built a scraper almost from scratch using Beautiful Soup which is a python library i used to pull out data from the html files of linkedin profiles i manually downloaded in the current local directory. At this stage i scraped the most significant fields i could take out of a linkedin profile such as Jobs, Education, the type of degree, enrollment and graduation years, the gender of an individual and the professional status. This data will be combined in order to have some more insights using machine learning algorithm in order to classify and segment people that got a degree at University of Bologna. For what concerns the code to scrape out that data already described, even though i tried to be as general as possible, In order to fetch data from Job and Education sections i had to refer to html tag with specific class descriptor used by linkedin to format its elements. Going into further details, once i built the scraper around the html file i downloaded with <code>BeautifulSoup(fp)</code> i used the following APIs</p>\n",
    "\n",
    "<p>\n",
    "    <dl>\n",
    "        <dt><bold><code>soup.find('h1', {'class':c}) for c in ['top-card-layout__title', 'text-heading-xlarge inline t-24 v-align-middle break-words'] </code></bold></dt>\n",
    "        <dd>in this line of code i basically scraped the first name out of the profiles i downloaded in order then to use it to deduce the gender, in particular <code>soup.find</code> takes as first argument the html element containing the data and as the second argument it loops over a list of class attributes specific for the profile/html page downloaded that contains the first name</dd>\n",
    "        <dt><bold><code>soup.find('section', {'class':regex})</code></bold></dt>\n",
    "        <dd>this API it is used to address both html section containing data about work experience and education with the class attribute regex that incapsulates a regular expression used to address any word containing experience (related to the experience section) and education (related to education section), this code is furtherly scraped to the final result that incapsualtes inside a list all work entered in the profile and all degrees</dd>\n",
    "        <dt><bold><code>educationSection.find_all('time')</code></bold></dt>\n",
    "        <dd>in the time attribute are entered for each stored degree the enrollment year and the graduation year, in this case all are stored inside a list</dd>\n",
    "        <dt><bold><code>infoDeg = inList(education, degreeInfo) if inList(education, degreeInfo) is not None else mapDegInfo(education)</code></bold></dt>\n",
    "        <dd>in this line of code are used two functions: The first function takes the list with record of degree entered and the dictionary that act as wrapper for specific type of degree, returning the type itself, the second one is used in case of missing results from the first one. This may happen in the case where the type of degree is not explicitly stored in the profile and is thus inferred by the number of entered fields (e.g more than two titles imply that a profile has entered a high school title and bachelor's degree thus the deegree associated is a master's degree)</dd>\n",
    "        <dt><bold><code>workLevel = inList(experience, jobLevelWrapper)</code></bold></dt>\n",
    "        <dd>the InList function is used again in order to check the job from the experience list matching it to the job qualification wrapped for the specific job inside the jobLevelWrapper dictionary</dd>\n",
    "        <dt><bold><code>gender = inList([firstName], nameWrapper)</code></bold></dt>\n",
    "        <dd>as already stated previously gender is deduced by the name scraped from the profile</dd>\n",
    "</dl>\n",
    "</p>\n",
    "\n",
    "<p>All of this scraped fields are put inside a list called profiles</p>\n",
    "    \n",
    "</p>"
   ]
  },
  {
   "cell_type": "markdown",
   "metadata": {},
   "source": [
    "<h1>Persistency</h1>\n",
    "\n",
    "<p>\n",
    "in the chunck of code above the profiles previosly scraped are written in a csv file for the sake of persistency.\n",
    "</p>"
   ]
  },
  {
   "cell_type": "code",
   "execution_count": 12,
   "metadata": {},
   "outputs": [],
   "source": [
    "#loggin into a .csv file\n",
    "\n",
    "import csv\n",
    "\n",
    "header = ['Job','Education','InfoDeg','DateRange', 'Gender', 'WorkLevel']\n",
    "\n",
    "csv_file = 'linkedin_profiles2.csv'\n",
    "with open(csv_file, 'w', newline='') as fp:\n",
    "    writer = csv.writer(fp)\n",
    "    writer.writerow(header)\n",
    "    writer.writerows(profiles)"
   ]
  },
  {
   "cell_type": "markdown",
   "metadata": {},
   "source": [
    "<h1>First Look at the data</h1>\n",
    "\n",
    "<p> in the following code i will give a brief description about the scraped data which is not yet well structured and of the operations i made to get to the desired dataset</p>"
   ]
  },
  {
   "cell_type": "code",
   "execution_count": 37,
   "metadata": {},
   "outputs": [
    {
     "data": {
      "text/html": [
       "<div>\n",
       "<style scoped>\n",
       "    .dataframe tbody tr th:only-of-type {\n",
       "        vertical-align: middle;\n",
       "    }\n",
       "\n",
       "    .dataframe tbody tr th {\n",
       "        vertical-align: top;\n",
       "    }\n",
       "\n",
       "    .dataframe thead th {\n",
       "        text-align: right;\n",
       "    }\n",
       "</style>\n",
       "<table border=\"1\" class=\"dataframe\">\n",
       "  <thead>\n",
       "    <tr style=\"text-align: right;\">\n",
       "      <th></th>\n",
       "      <th>Job</th>\n",
       "      <th>Education</th>\n",
       "      <th>InfoDeg</th>\n",
       "      <th>DateRange</th>\n",
       "      <th>Gender</th>\n",
       "      <th>WorkLevel</th>\n",
       "    </tr>\n",
       "  </thead>\n",
       "  <tbody>\n",
       "    <tr>\n",
       "      <th>0</th>\n",
       "      <td>['Training Specialist', 'Training Specialist',...</td>\n",
       "      <td>['Master di I livello', 'Politiche di Sicurezz...</td>\n",
       "      <td>Magistrale</td>\n",
       "      <td>['2015', '2009', '2014', '2004', '2009']</td>\n",
       "      <td>F</td>\n",
       "      <td>Quadro</td>\n",
       "    </tr>\n",
       "    <tr>\n",
       "      <th>1</th>\n",
       "      <td>[\"Esperienze di Lavoro all'Estero come Care As...</td>\n",
       "      <td>['Scienze Politiche,Sociali ed Internazionali'...</td>\n",
       "      <td>Triennale</td>\n",
       "      <td>['2014', '2016', '2006', '2011']</td>\n",
       "      <td>M</td>\n",
       "      <td>Impiegato</td>\n",
       "    </tr>\n",
       "    <tr>\n",
       "      <th>2</th>\n",
       "      <td>['docente di lettere', 'docente di lettere', '...</td>\n",
       "      <td>['Laurea Magistrale  LM in Scienze Umanistiche...</td>\n",
       "      <td>Magistrale</td>\n",
       "      <td>['2017', '2020', '2016', '2017', '2014', '2017']</td>\n",
       "      <td>F</td>\n",
       "      <td>Impiegato</td>\n",
       "    </tr>\n",
       "    <tr>\n",
       "      <th>3</th>\n",
       "      <td>['Junior Software Developer', 'Promoter vendit...</td>\n",
       "      <td>['Laurea triennale', 'Ingegneria informatica',...</td>\n",
       "      <td>Triennale</td>\n",
       "      <td>['2016', '2021']</td>\n",
       "      <td>M</td>\n",
       "      <td>Impiegato</td>\n",
       "    </tr>\n",
       "    <tr>\n",
       "      <th>4</th>\n",
       "      <td>['IoT Edge Developer', 'Sviluppatore front-end']</td>\n",
       "      <td>['Laurea Magistrale  LM', 'Ingegneria informat...</td>\n",
       "      <td>Magistrale</td>\n",
       "      <td>['2019', '2020', '2015', '2018', '2010', '2015']</td>\n",
       "      <td>M</td>\n",
       "      <td>Impiegato</td>\n",
       "    </tr>\n",
       "  </tbody>\n",
       "</table>\n",
       "</div>"
      ],
      "text/plain": [
       "                                                 Job  \\\n",
       "0  ['Training Specialist', 'Training Specialist',...   \n",
       "1  [\"Esperienze di Lavoro all'Estero come Care As...   \n",
       "2  ['docente di lettere', 'docente di lettere', '...   \n",
       "3  ['Junior Software Developer', 'Promoter vendit...   \n",
       "4   ['IoT Edge Developer', 'Sviluppatore front-end']   \n",
       "\n",
       "                                           Education     InfoDeg  \\\n",
       "0  ['Master di I livello', 'Politiche di Sicurezz...  Magistrale   \n",
       "1  ['Scienze Politiche,Sociali ed Internazionali'...   Triennale   \n",
       "2  ['Laurea Magistrale  LM in Scienze Umanistiche...  Magistrale   \n",
       "3  ['Laurea triennale', 'Ingegneria informatica',...   Triennale   \n",
       "4  ['Laurea Magistrale  LM', 'Ingegneria informat...  Magistrale   \n",
       "\n",
       "                                          DateRange Gender  WorkLevel  \n",
       "0          ['2015', '2009', '2014', '2004', '2009']      F     Quadro  \n",
       "1                  ['2014', '2016', '2006', '2011']      M  Impiegato  \n",
       "2  ['2017', '2020', '2016', '2017', '2014', '2017']      F  Impiegato  \n",
       "3                                  ['2016', '2021']      M  Impiegato  \n",
       "4  ['2019', '2020', '2015', '2018', '2010', '2015']      M  Impiegato  "
      ]
     },
     "execution_count": 37,
     "metadata": {},
     "output_type": "execute_result"
    }
   ],
   "source": [
    "#reporting data\n",
    "import pandas as pd\n",
    "import numpy as np\n",
    "\n",
    "df = pd.read_csv('linkedin_profiles2.csv', encoding='ISO-8859-1')\n",
    "df.head()"
   ]
  },
  {
   "cell_type": "code",
   "execution_count": 38,
   "metadata": {},
   "outputs": [
    {
     "data": {
      "text/plain": [
       "Job          object\n",
       "Education    object\n",
       "InfoDeg      object\n",
       "DateRange    object\n",
       "Gender       object\n",
       "WorkLevel    object\n",
       "dtype: object"
      ]
     },
     "execution_count": 38,
     "metadata": {},
     "output_type": "execute_result"
    }
   ],
   "source": [
    "df.dtypes"
   ]
  },
  {
   "cell_type": "markdown",
   "metadata": {},
   "source": [
    "<p> the dataset, whose first elements are showcased by the head() method of pandas library, does still contain data that are a bit raw. Indeed, the columns displayed incapsulate inside lists all of those data scraped from html pages of linkedin profile such as all jobs registered in the experience section, all education information that could go from high school to P.h.d degrees and each enrollment and graduation date related to each education title entered. From this first sight at data it appears to me that this dataset needs to be modified a bit in order to keep just the information of interest for this work such as the last (most significant) education titles among P.h.D, bachelor or master degrees from University of Bologna, the last job inserted in the list of jobs and the last date range involving enrollment and graduation date of the associated degree.\n",
    "</p>"
   ]
  },
  {
   "cell_type": "code",
   "execution_count": 39,
   "metadata": {},
   "outputs": [
    {
     "data": {
      "text/plain": [
       "(496, 6)"
      ]
     },
     "execution_count": 39,
     "metadata": {},
     "output_type": "execute_result"
    }
   ],
   "source": [
    "df.shape"
   ]
  },
  {
   "cell_type": "code",
   "execution_count": 40,
   "metadata": {
    "scrolled": false
   },
   "outputs": [],
   "source": [
    "from ast import literal_eval\n",
    "\n",
    "df.Job = df.Job.apply(literal_eval)\n",
    "df.Education = df.Education.apply(literal_eval)\n",
    "df.DateRange = df.DateRange.apply(literal_eval) "
   ]
  },
  {
   "cell_type": "markdown",
   "metadata": {},
   "source": [
    "in the cell above, since data fetched from the csv file containing linkedin profiles previously stored in arrays are perceived as one big string i applied a function in order to split those string back into the two lists of job, education and date range.  "
   ]
  },
  {
   "cell_type": "code",
   "execution_count": 6,
   "metadata": {
    "scrolled": false
   },
   "outputs": [
    {
     "name": "stdout",
     "output_type": "stream",
     "text": [
      "{'Risorse umane': ['Responsabile Area Espansione', 'Senior Recruitment Officer', 'Analista Direzione Sviluppo Persone e Organizzazione', 'Training Specialist', 'HR'], 'Ristorazione': ['Assistente enologo', 'Barman', 'barista']}\n",
      "{'Giurisprudenza': ['Giurisprudenza'], 'Scienze della comunicazione': ['Semiotica', 'Marketing', 'PubblicitÃ\\xa0', 'Communication', 'Comunicazione', 'comunicazione', \"comunicazione pubblica, d'impresa e pubblicitÃ\\xa0\", 'Mass media e Politica', 'Brand Strategy and Marketing', 'Scienze della comunicazione', 'Comunicazione e Digital Media', 'Scienze della Comunicazione', 'Comunicazione']}\n"
     ]
    }
   ],
   "source": [
    "print({k:jobWrapper[k] for k in list(jobWrapper.keys())[:2]})\n",
    "print({k:educationWrapper[k] for k in list(educationWrapper.keys())[:2]})"
   ]
  },
  {
   "cell_type": "markdown",
   "metadata": {},
   "source": [
    "As i anticipated previously, since education and job fields fetched from linkedin html pages could have entered with different naming even though they could be identified with a single category, i decided to compute some basic remapping. By the way in order to have a more clean and meaningful dataset to inspect i decided to map semantically similar jobs or degrees under one same branch. To clarify, for each profile whose work experience was Developer, Web Developer, Sviluppatore software and so on, i mapped those field under the same keyword Sviluppatore. Another field i processed from the raw data scraped previously are enrollmentYears of the last degree entered and the corresponding graduation years, to do that since there were some graduation years still missing due to a current enrollment to a degree, i used the calgGraduationYears accessory function previously defined to estimate the graduation years given the type of enrolled degree (such as for bachelor's degree the expected time is of three years).    "
   ]
  },
  {
   "cell_type": "code",
   "execution_count": 43,
   "metadata": {},
   "outputs": [],
   "source": [
    "import warnings\n",
    "import numpy as np\n",
    "from functools import partial\n",
    "warnings.filterwarnings('ignore')\n",
    "\n",
    "df1 = df\n",
    "\n",
    "mappedJobs = list(map(partial(inList, dictionary=jobWrapper), df1.Job))\n",
    "mappedEdus = list(map(partial(inList, dictionary=educationWrapper), df1.Education))\n",
    "\n",
    "\n",
    "df1['Job'] = mappedJobs\n",
    "df1['Education'] = mappedEdus\n",
    "\n",
    "df2 = df1[df1.DateRange.map(len) > 1]\n",
    "\n",
    "enrollmentYears = [int(yearRange[0]) for yearRange in df2.DateRange]\n",
    "graduationYears = list(map(calcGraduationYears, df2.InfoDeg , df2.DateRange))\n",
    "\n",
    "df3 = df2\n",
    "\n",
    "df3.drop('DateRange', axis = 1, inplace= True)\n",
    "df3['enrollmentYears'] = enrollmentYears\n",
    "df3['graduationYears'] = graduationYears"
   ]
  },
  {
   "cell_type": "markdown",
   "metadata": {},
   "source": [
    "once the values are mapped i built another dataset switching the old values with the new ones whose first rows are showed in the following cells. After this small processing the dataset, fullfilled with more meaningful and easy-to-read data is ready to be scanned to get the first insights.  "
   ]
  },
  {
   "cell_type": "code",
   "execution_count": 44,
   "metadata": {},
   "outputs": [
    {
     "name": "stdout",
     "output_type": "stream",
     "text": [
      "Job                object\n",
      "Education          object\n",
      "InfoDeg            object\n",
      "Gender             object\n",
      "WorkLevel          object\n",
      "enrollmentYears     int64\n",
      "graduationYears     int64\n",
      "dtype: object\n",
      "(427, 7)\n"
     ]
    },
    {
     "data": {
      "text/html": [
       "<div>\n",
       "<style scoped>\n",
       "    .dataframe tbody tr th:only-of-type {\n",
       "        vertical-align: middle;\n",
       "    }\n",
       "\n",
       "    .dataframe tbody tr th {\n",
       "        vertical-align: top;\n",
       "    }\n",
       "\n",
       "    .dataframe thead th {\n",
       "        text-align: right;\n",
       "    }\n",
       "</style>\n",
       "<table border=\"1\" class=\"dataframe\">\n",
       "  <thead>\n",
       "    <tr style=\"text-align: right;\">\n",
       "      <th></th>\n",
       "      <th>Job</th>\n",
       "      <th>Education</th>\n",
       "      <th>InfoDeg</th>\n",
       "      <th>Gender</th>\n",
       "      <th>WorkLevel</th>\n",
       "      <th>enrollmentYears</th>\n",
       "      <th>graduationYears</th>\n",
       "    </tr>\n",
       "  </thead>\n",
       "  <tbody>\n",
       "    <tr>\n",
       "      <th>0</th>\n",
       "      <td>Risorse umane</td>\n",
       "      <td>Giurisprudenza</td>\n",
       "      <td>Magistrale</td>\n",
       "      <td>F</td>\n",
       "      <td>Quadro</td>\n",
       "      <td>2015</td>\n",
       "      <td>2017</td>\n",
       "    </tr>\n",
       "    <tr>\n",
       "      <th>1</th>\n",
       "      <td>Ristorazione</td>\n",
       "      <td>Scienze politiche</td>\n",
       "      <td>Triennale</td>\n",
       "      <td>M</td>\n",
       "      <td>Impiegato</td>\n",
       "      <td>2014</td>\n",
       "      <td>2016</td>\n",
       "    </tr>\n",
       "    <tr>\n",
       "      <th>2</th>\n",
       "      <td>Insegnante</td>\n",
       "      <td>Lettere e Filosofia</td>\n",
       "      <td>Magistrale</td>\n",
       "      <td>F</td>\n",
       "      <td>Impiegato</td>\n",
       "      <td>2017</td>\n",
       "      <td>2020</td>\n",
       "    </tr>\n",
       "    <tr>\n",
       "      <th>3</th>\n",
       "      <td>Sviluppatore</td>\n",
       "      <td>Ingegneria Informatica</td>\n",
       "      <td>Triennale</td>\n",
       "      <td>M</td>\n",
       "      <td>Impiegato</td>\n",
       "      <td>2016</td>\n",
       "      <td>2021</td>\n",
       "    </tr>\n",
       "    <tr>\n",
       "      <th>4</th>\n",
       "      <td>Sviluppatore</td>\n",
       "      <td>Ingegneria Informatica</td>\n",
       "      <td>Magistrale</td>\n",
       "      <td>M</td>\n",
       "      <td>Impiegato</td>\n",
       "      <td>2019</td>\n",
       "      <td>2020</td>\n",
       "    </tr>\n",
       "  </tbody>\n",
       "</table>\n",
       "</div>"
      ],
      "text/plain": [
       "             Job               Education     InfoDeg Gender  WorkLevel  \\\n",
       "0  Risorse umane          Giurisprudenza  Magistrale      F     Quadro   \n",
       "1   Ristorazione       Scienze politiche   Triennale      M  Impiegato   \n",
       "2     Insegnante     Lettere e Filosofia  Magistrale      F  Impiegato   \n",
       "3   Sviluppatore  Ingegneria Informatica   Triennale      M  Impiegato   \n",
       "4   Sviluppatore  Ingegneria Informatica  Magistrale      M  Impiegato   \n",
       "\n",
       "   enrollmentYears  graduationYears  \n",
       "0             2015             2017  \n",
       "1             2014             2016  \n",
       "2             2017             2020  \n",
       "3             2016             2021  \n",
       "4             2019             2020  "
      ]
     },
     "execution_count": 44,
     "metadata": {},
     "output_type": "execute_result"
    }
   ],
   "source": [
    "df3.dropna(inplace=True)\n",
    "\n",
    "print(df3.dtypes)\n",
    "print(df3.shape)\n",
    "df3.head()"
   ]
  },
  {
   "cell_type": "code",
   "execution_count": 45,
   "metadata": {},
   "outputs": [],
   "source": [
    "df3.to_csv('out.csv')"
   ]
  },
  {
   "cell_type": "code",
   "execution_count": 83,
   "metadata": {},
   "outputs": [],
   "source": [
    "from pandas_profiling import ProfileReport\n",
    "\n",
    "df3.reset_index(drop = True,inplace=True)\n",
    "\n",
    "profile = ProfileReport(df3,missing_diagrams={'bar':False,'matrix':False,'heatmap':False,'dendrogram':False})\n",
    "profile.to_file(\"report.html\")"
   ]
  },
  {
   "cell_type": "markdown",
   "metadata": {},
   "source": [
    "In the chunck of code above in order to display a rapresentation of the report of the data as fancy as possible i used the pandas-profiling module in order to save it in a html file. Basically what it does is to provide a more enriched rappresentation of the API describe() from pandas which is used as well to generate some descriptive statistics about the features of the dataset to give some insights about it, and it calculates how correlated the features are.  "
   ]
  },
  {
   "cell_type": "markdown",
   "metadata": {},
   "source": [
    "<h1>Data preprocessing</h1>\n",
    "\n",
    "<p>\n",
    "in the following cells i prepare the data with preprocessing operator in order to fit the dataset at best for the further classifications.\n",
    "</p>"
   ]
  },
  {
   "cell_type": "code",
   "execution_count": 2,
   "metadata": {},
   "outputs": [],
   "source": [
    "import pandas as pd\n",
    "import numpy as np\n",
    "import seaborn as sbn\n",
    "\n",
    "\n",
    "from sklearn.preprocessing import OneHotEncoder, OrdinalEncoder\n",
    "from sklearn.compose import ColumnTransformer\n",
    "from sklearn.tree import DecisionTreeClassifier\n",
    "from sklearn.model_selection import train_test_split, cross_val_score\n",
    "from sklearn.metrics import accuracy_score \n",
    "\n",
    "random_state = 15\n",
    "np.random.seed(random_state)"
   ]
  },
  {
   "cell_type": "code",
   "execution_count": 3,
   "metadata": {},
   "outputs": [
    {
     "data": {
      "text/html": [
       "<div>\n",
       "<style scoped>\n",
       "    .dataframe tbody tr th:only-of-type {\n",
       "        vertical-align: middle;\n",
       "    }\n",
       "\n",
       "    .dataframe tbody tr th {\n",
       "        vertical-align: top;\n",
       "    }\n",
       "\n",
       "    .dataframe thead th {\n",
       "        text-align: right;\n",
       "    }\n",
       "</style>\n",
       "<table border=\"1\" class=\"dataframe\">\n",
       "  <thead>\n",
       "    <tr style=\"text-align: right;\">\n",
       "      <th></th>\n",
       "      <th>Job</th>\n",
       "      <th>Education</th>\n",
       "      <th>InfoDeg</th>\n",
       "      <th>Gender</th>\n",
       "      <th>WorkLevel</th>\n",
       "      <th>enrollmentYears</th>\n",
       "      <th>graduationYears</th>\n",
       "    </tr>\n",
       "  </thead>\n",
       "  <tbody>\n",
       "    <tr>\n",
       "      <th>0</th>\n",
       "      <td>Risorse umane</td>\n",
       "      <td>Giurisprudenza</td>\n",
       "      <td>Magistrale</td>\n",
       "      <td>F</td>\n",
       "      <td>Quadro</td>\n",
       "      <td>2015</td>\n",
       "      <td>2017</td>\n",
       "    </tr>\n",
       "    <tr>\n",
       "      <th>1</th>\n",
       "      <td>Ristorazione</td>\n",
       "      <td>Scienze politiche</td>\n",
       "      <td>Triennale</td>\n",
       "      <td>M</td>\n",
       "      <td>Impiegato</td>\n",
       "      <td>2014</td>\n",
       "      <td>2016</td>\n",
       "    </tr>\n",
       "    <tr>\n",
       "      <th>2</th>\n",
       "      <td>Insegnante</td>\n",
       "      <td>Lettere e Filosofia</td>\n",
       "      <td>Magistrale</td>\n",
       "      <td>F</td>\n",
       "      <td>Impiegato</td>\n",
       "      <td>2017</td>\n",
       "      <td>2020</td>\n",
       "    </tr>\n",
       "    <tr>\n",
       "      <th>3</th>\n",
       "      <td>Sviluppatore</td>\n",
       "      <td>Ingegneria Informatica</td>\n",
       "      <td>Triennale</td>\n",
       "      <td>M</td>\n",
       "      <td>Impiegato</td>\n",
       "      <td>2016</td>\n",
       "      <td>2021</td>\n",
       "    </tr>\n",
       "    <tr>\n",
       "      <th>4</th>\n",
       "      <td>Sviluppatore</td>\n",
       "      <td>Ingegneria Informatica</td>\n",
       "      <td>Magistrale</td>\n",
       "      <td>M</td>\n",
       "      <td>Impiegato</td>\n",
       "      <td>2019</td>\n",
       "      <td>2020</td>\n",
       "    </tr>\n",
       "  </tbody>\n",
       "</table>\n",
       "</div>"
      ],
      "text/plain": [
       "             Job               Education     InfoDeg Gender  WorkLevel  \\\n",
       "0  Risorse umane          Giurisprudenza  Magistrale      F     Quadro   \n",
       "1   Ristorazione       Scienze politiche   Triennale      M  Impiegato   \n",
       "2     Insegnante     Lettere e Filosofia  Magistrale      F  Impiegato   \n",
       "3   Sviluppatore  Ingegneria Informatica   Triennale      M  Impiegato   \n",
       "4   Sviluppatore  Ingegneria Informatica  Magistrale      M  Impiegato   \n",
       "\n",
       "   enrollmentYears  graduationYears  \n",
       "0             2015             2017  \n",
       "1             2014             2016  \n",
       "2             2017             2020  \n",
       "3             2016             2021  \n",
       "4             2019             2020  "
      ]
     },
     "execution_count": 3,
     "metadata": {},
     "output_type": "execute_result"
    }
   ],
   "source": [
    "#sbn.catplot(df1)\n",
    "df1.head()"
   ]
  },
  {
   "cell_type": "code",
   "execution_count": 3,
   "metadata": {},
   "outputs": [
    {
     "name": "stdout",
     "output_type": "stream",
     "text": [
      "             Job               Education     InfoDeg Gender  WorkLevel  \\\n",
      "0  Risorse umane          Giurisprudenza  Magistrale      F     Quadro   \n",
      "1   Ristorazione       Scienze politiche   Triennale      M  Impiegato   \n",
      "2     Insegnante     Lettere e Filosofia  Magistrale      F  Impiegato   \n",
      "3   Sviluppatore  Ingegneria Informatica   Triennale      M  Impiegato   \n",
      "4   Sviluppatore  Ingegneria Informatica  Magistrale      M  Impiegato   \n",
      "\n",
      "   enrollmentYears  graduationYears  \n",
      "0             2015             2017  \n",
      "1             2014             2016  \n",
      "2             2017             2020  \n",
      "3             2016             2021  \n",
      "4             2019             2020  \n",
      "(427, 47)\n",
      "(427, 2)\n"
     ]
    },
    {
     "data": {
      "text/html": [
       "<div>\n",
       "<style scoped>\n",
       "    .dataframe tbody tr th:only-of-type {\n",
       "        vertical-align: middle;\n",
       "    }\n",
       "\n",
       "    .dataframe tbody tr th {\n",
       "        vertical-align: top;\n",
       "    }\n",
       "\n",
       "    .dataframe thead th {\n",
       "        text-align: right;\n",
       "    }\n",
       "</style>\n",
       "<table border=\"1\" class=\"dataframe\">\n",
       "  <thead>\n",
       "    <tr style=\"text-align: right;\">\n",
       "      <th></th>\n",
       "      <th>Analista Finanziario/Economico</th>\n",
       "      <th>Analista informatico</th>\n",
       "      <th>Arte</th>\n",
       "      <th>Assistente sociale</th>\n",
       "      <th>Autore</th>\n",
       "      <th>Banca</th>\n",
       "      <th>Commerciale</th>\n",
       "      <th>Commercialista</th>\n",
       "      <th>Comunicazione</th>\n",
       "      <th>Consulente Finanziario/Economico</th>\n",
       "      <th>...</th>\n",
       "      <th>Matematica e Fisica</th>\n",
       "      <th>Scienze della comunicazione</th>\n",
       "      <th>Scienze politiche</th>\n",
       "      <th>Statistica</th>\n",
       "      <th>F</th>\n",
       "      <th>M</th>\n",
       "      <th>InfoDeg</th>\n",
       "      <th>WorkLevel</th>\n",
       "      <th>enrollmentYears</th>\n",
       "      <th>graduationYears</th>\n",
       "    </tr>\n",
       "  </thead>\n",
       "  <tbody>\n",
       "    <tr>\n",
       "      <th>0</th>\n",
       "      <td>0</td>\n",
       "      <td>0</td>\n",
       "      <td>0</td>\n",
       "      <td>0</td>\n",
       "      <td>0</td>\n",
       "      <td>0</td>\n",
       "      <td>0</td>\n",
       "      <td>0</td>\n",
       "      <td>0</td>\n",
       "      <td>0</td>\n",
       "      <td>...</td>\n",
       "      <td>0</td>\n",
       "      <td>0</td>\n",
       "      <td>0</td>\n",
       "      <td>0</td>\n",
       "      <td>1</td>\n",
       "      <td>0</td>\n",
       "      <td>1.0</td>\n",
       "      <td>1.0</td>\n",
       "      <td>2015</td>\n",
       "      <td>2017</td>\n",
       "    </tr>\n",
       "    <tr>\n",
       "      <th>1</th>\n",
       "      <td>0</td>\n",
       "      <td>0</td>\n",
       "      <td>0</td>\n",
       "      <td>0</td>\n",
       "      <td>0</td>\n",
       "      <td>0</td>\n",
       "      <td>0</td>\n",
       "      <td>0</td>\n",
       "      <td>0</td>\n",
       "      <td>0</td>\n",
       "      <td>...</td>\n",
       "      <td>0</td>\n",
       "      <td>0</td>\n",
       "      <td>1</td>\n",
       "      <td>0</td>\n",
       "      <td>0</td>\n",
       "      <td>1</td>\n",
       "      <td>0.0</td>\n",
       "      <td>0.0</td>\n",
       "      <td>2014</td>\n",
       "      <td>2016</td>\n",
       "    </tr>\n",
       "    <tr>\n",
       "      <th>2</th>\n",
       "      <td>0</td>\n",
       "      <td>0</td>\n",
       "      <td>0</td>\n",
       "      <td>0</td>\n",
       "      <td>0</td>\n",
       "      <td>0</td>\n",
       "      <td>0</td>\n",
       "      <td>0</td>\n",
       "      <td>0</td>\n",
       "      <td>0</td>\n",
       "      <td>...</td>\n",
       "      <td>0</td>\n",
       "      <td>0</td>\n",
       "      <td>0</td>\n",
       "      <td>0</td>\n",
       "      <td>1</td>\n",
       "      <td>0</td>\n",
       "      <td>1.0</td>\n",
       "      <td>0.0</td>\n",
       "      <td>2017</td>\n",
       "      <td>2020</td>\n",
       "    </tr>\n",
       "    <tr>\n",
       "      <th>3</th>\n",
       "      <td>0</td>\n",
       "      <td>0</td>\n",
       "      <td>0</td>\n",
       "      <td>0</td>\n",
       "      <td>0</td>\n",
       "      <td>0</td>\n",
       "      <td>0</td>\n",
       "      <td>0</td>\n",
       "      <td>0</td>\n",
       "      <td>0</td>\n",
       "      <td>...</td>\n",
       "      <td>0</td>\n",
       "      <td>0</td>\n",
       "      <td>0</td>\n",
       "      <td>0</td>\n",
       "      <td>0</td>\n",
       "      <td>1</td>\n",
       "      <td>0.0</td>\n",
       "      <td>0.0</td>\n",
       "      <td>2016</td>\n",
       "      <td>2021</td>\n",
       "    </tr>\n",
       "    <tr>\n",
       "      <th>4</th>\n",
       "      <td>0</td>\n",
       "      <td>0</td>\n",
       "      <td>0</td>\n",
       "      <td>0</td>\n",
       "      <td>0</td>\n",
       "      <td>0</td>\n",
       "      <td>0</td>\n",
       "      <td>0</td>\n",
       "      <td>0</td>\n",
       "      <td>0</td>\n",
       "      <td>...</td>\n",
       "      <td>0</td>\n",
       "      <td>0</td>\n",
       "      <td>0</td>\n",
       "      <td>0</td>\n",
       "      <td>0</td>\n",
       "      <td>1</td>\n",
       "      <td>1.0</td>\n",
       "      <td>0.0</td>\n",
       "      <td>2019</td>\n",
       "      <td>2020</td>\n",
       "    </tr>\n",
       "    <tr>\n",
       "      <th>...</th>\n",
       "      <td>...</td>\n",
       "      <td>...</td>\n",
       "      <td>...</td>\n",
       "      <td>...</td>\n",
       "      <td>...</td>\n",
       "      <td>...</td>\n",
       "      <td>...</td>\n",
       "      <td>...</td>\n",
       "      <td>...</td>\n",
       "      <td>...</td>\n",
       "      <td>...</td>\n",
       "      <td>...</td>\n",
       "      <td>...</td>\n",
       "      <td>...</td>\n",
       "      <td>...</td>\n",
       "      <td>...</td>\n",
       "      <td>...</td>\n",
       "      <td>...</td>\n",
       "      <td>...</td>\n",
       "      <td>...</td>\n",
       "      <td>...</td>\n",
       "    </tr>\n",
       "    <tr>\n",
       "      <th>422</th>\n",
       "      <td>0</td>\n",
       "      <td>0</td>\n",
       "      <td>0</td>\n",
       "      <td>0</td>\n",
       "      <td>0</td>\n",
       "      <td>0</td>\n",
       "      <td>0</td>\n",
       "      <td>0</td>\n",
       "      <td>0</td>\n",
       "      <td>0</td>\n",
       "      <td>...</td>\n",
       "      <td>0</td>\n",
       "      <td>0</td>\n",
       "      <td>0</td>\n",
       "      <td>0</td>\n",
       "      <td>1</td>\n",
       "      <td>0</td>\n",
       "      <td>0.0</td>\n",
       "      <td>0.0</td>\n",
       "      <td>2005</td>\n",
       "      <td>2009</td>\n",
       "    </tr>\n",
       "    <tr>\n",
       "      <th>423</th>\n",
       "      <td>0</td>\n",
       "      <td>0</td>\n",
       "      <td>0</td>\n",
       "      <td>0</td>\n",
       "      <td>0</td>\n",
       "      <td>0</td>\n",
       "      <td>0</td>\n",
       "      <td>0</td>\n",
       "      <td>0</td>\n",
       "      <td>0</td>\n",
       "      <td>...</td>\n",
       "      <td>0</td>\n",
       "      <td>0</td>\n",
       "      <td>0</td>\n",
       "      <td>0</td>\n",
       "      <td>0</td>\n",
       "      <td>1</td>\n",
       "      <td>1.0</td>\n",
       "      <td>0.0</td>\n",
       "      <td>2019</td>\n",
       "      <td>2021</td>\n",
       "    </tr>\n",
       "    <tr>\n",
       "      <th>424</th>\n",
       "      <td>0</td>\n",
       "      <td>0</td>\n",
       "      <td>0</td>\n",
       "      <td>0</td>\n",
       "      <td>0</td>\n",
       "      <td>0</td>\n",
       "      <td>0</td>\n",
       "      <td>0</td>\n",
       "      <td>0</td>\n",
       "      <td>0</td>\n",
       "      <td>...</td>\n",
       "      <td>0</td>\n",
       "      <td>0</td>\n",
       "      <td>0</td>\n",
       "      <td>0</td>\n",
       "      <td>0</td>\n",
       "      <td>1</td>\n",
       "      <td>0.0</td>\n",
       "      <td>0.0</td>\n",
       "      <td>1998</td>\n",
       "      <td>2010</td>\n",
       "    </tr>\n",
       "    <tr>\n",
       "      <th>425</th>\n",
       "      <td>0</td>\n",
       "      <td>0</td>\n",
       "      <td>0</td>\n",
       "      <td>0</td>\n",
       "      <td>0</td>\n",
       "      <td>0</td>\n",
       "      <td>0</td>\n",
       "      <td>0</td>\n",
       "      <td>0</td>\n",
       "      <td>0</td>\n",
       "      <td>...</td>\n",
       "      <td>0</td>\n",
       "      <td>0</td>\n",
       "      <td>0</td>\n",
       "      <td>0</td>\n",
       "      <td>0</td>\n",
       "      <td>1</td>\n",
       "      <td>1.0</td>\n",
       "      <td>0.0</td>\n",
       "      <td>2019</td>\n",
       "      <td>2021</td>\n",
       "    </tr>\n",
       "    <tr>\n",
       "      <th>426</th>\n",
       "      <td>0</td>\n",
       "      <td>0</td>\n",
       "      <td>0</td>\n",
       "      <td>0</td>\n",
       "      <td>0</td>\n",
       "      <td>0</td>\n",
       "      <td>0</td>\n",
       "      <td>0</td>\n",
       "      <td>0</td>\n",
       "      <td>0</td>\n",
       "      <td>...</td>\n",
       "      <td>0</td>\n",
       "      <td>0</td>\n",
       "      <td>0</td>\n",
       "      <td>0</td>\n",
       "      <td>0</td>\n",
       "      <td>1</td>\n",
       "      <td>0.0</td>\n",
       "      <td>0.0</td>\n",
       "      <td>1991</td>\n",
       "      <td>1996</td>\n",
       "    </tr>\n",
       "  </tbody>\n",
       "</table>\n",
       "<p>427 rows × 51 columns</p>\n",
       "</div>"
      ],
      "text/plain": [
       "     Analista Finanziario/Economico  Analista informatico  Arte  \\\n",
       "0                                 0                     0     0   \n",
       "1                                 0                     0     0   \n",
       "2                                 0                     0     0   \n",
       "3                                 0                     0     0   \n",
       "4                                 0                     0     0   \n",
       "..                              ...                   ...   ...   \n",
       "422                               0                     0     0   \n",
       "423                               0                     0     0   \n",
       "424                               0                     0     0   \n",
       "425                               0                     0     0   \n",
       "426                               0                     0     0   \n",
       "\n",
       "     Assistente sociale  Autore  Banca  Commerciale  Commercialista  \\\n",
       "0                     0       0      0            0               0   \n",
       "1                     0       0      0            0               0   \n",
       "2                     0       0      0            0               0   \n",
       "3                     0       0      0            0               0   \n",
       "4                     0       0      0            0               0   \n",
       "..                  ...     ...    ...          ...             ...   \n",
       "422                   0       0      0            0               0   \n",
       "423                   0       0      0            0               0   \n",
       "424                   0       0      0            0               0   \n",
       "425                   0       0      0            0               0   \n",
       "426                   0       0      0            0               0   \n",
       "\n",
       "     Comunicazione  Consulente Finanziario/Economico  ...  \\\n",
       "0                0                                 0  ...   \n",
       "1                0                                 0  ...   \n",
       "2                0                                 0  ...   \n",
       "3                0                                 0  ...   \n",
       "4                0                                 0  ...   \n",
       "..             ...                               ...  ...   \n",
       "422              0                                 0  ...   \n",
       "423              0                                 0  ...   \n",
       "424              0                                 0  ...   \n",
       "425              0                                 0  ...   \n",
       "426              0                                 0  ...   \n",
       "\n",
       "     Matematica e Fisica  Scienze della comunicazione  Scienze politiche  \\\n",
       "0                      0                            0                  0   \n",
       "1                      0                            0                  1   \n",
       "2                      0                            0                  0   \n",
       "3                      0                            0                  0   \n",
       "4                      0                            0                  0   \n",
       "..                   ...                          ...                ...   \n",
       "422                    0                            0                  0   \n",
       "423                    0                            0                  0   \n",
       "424                    0                            0                  0   \n",
       "425                    0                            0                  0   \n",
       "426                    0                            0                  0   \n",
       "\n",
       "     Statistica  F  M  InfoDeg  WorkLevel  enrollmentYears  graduationYears  \n",
       "0             0  1  0      1.0        1.0             2015             2017  \n",
       "1             0  0  1      0.0        0.0             2014             2016  \n",
       "2             0  1  0      1.0        0.0             2017             2020  \n",
       "3             0  0  1      0.0        0.0             2016             2021  \n",
       "4             0  0  1      1.0        0.0             2019             2020  \n",
       "..          ... .. ..      ...        ...              ...              ...  \n",
       "422           0  1  0      0.0        0.0             2005             2009  \n",
       "423           0  0  1      1.0        0.0             2019             2021  \n",
       "424           0  0  1      0.0        0.0             1998             2010  \n",
       "425           0  0  1      1.0        0.0             2019             2021  \n",
       "426           0  0  1      0.0        0.0             1991             1996  \n",
       "\n",
       "[427 rows x 51 columns]"
      ]
     },
     "execution_count": 3,
     "metadata": {},
     "output_type": "execute_result"
    }
   ],
   "source": [
    "df = pd.read_csv('out.csv')\n",
    "df.head()\n",
    "\n",
    "df1 = df.iloc[:, 1:]\n",
    "\n",
    "print(df1.head())\n",
    "\n",
    "transf_dtype = np.int32\n",
    "\n",
    "InfoDeg = ['Triennale','Magistrale','Dottorato']\n",
    "WorkLevel = ['Impiegato','Quadro','Dirigente']\n",
    "\n",
    "ordinal = OrdinalEncoder(categories=[InfoDeg, WorkLevel])\n",
    "categorical = OneHotEncoder(dtype = transf_dtype, sparse=False)\n",
    "\n",
    "df_categorical = df1.drop(columns=['InfoDeg','WorkLevel','enrollmentYears','graduationYears']) \n",
    "df_ordinal = df1.loc[:,['InfoDeg','WorkLevel']]\n",
    "\n",
    "cat = categorical.fit_transform(df_categorical) \n",
    "cols = categorical.get_feature_names()\n",
    "\n",
    "adj_cols = list(map(lambda x : x.replace('x0_','').replace('x1_','').replace('x2_',''), cols))\n",
    "\n",
    "X_cat = pd.DataFrame(cat, columns=adj_cols)\n",
    "\n",
    "ordin = ordinal.fit_transform(df_ordinal) \n",
    "X_ordinal = pd.DataFrame(ordin, columns= ['InfoDeg','WorkLevel'])\n",
    "\n",
    "X_p = pd.concat([X_cat, X_ordinal, df1.loc[:, ['enrollmentYears','graduationYears']]], axis=1)\n",
    "\n",
    "print(X_cat.shape)\n",
    "print(X_ordinal.shape)\n",
    "\n",
    "X_p"
   ]
  },
  {
   "cell_type": "markdown",
   "metadata": {},
   "source": [
    "<p>\n",
    "As already stated above, in order to feed the further Decision tree classifier that i will instantiate to classify some instances, since most of the data fetched is categorical i had to perform some preprocessing that i explain in few words. I instantiated two processors from the sklearn library which are <code>OneHotEncoder</code> and <code>OrdinalEncoder</code>. The first one is used to map the nominal features which are Job, Education and Gender while the second one is used for WorkLevel and Type of Degree since they can express a natural ordering   \n",
    "</p>"
   ]
  },
  {
   "cell_type": "markdown",
   "metadata": {},
   "source": [
    "<h1>Classification</h1>\n",
    "\n",
    "<p>in the following code i will split the dataset into independent variable (features) used to classify the independent (labels), in order to this fit the decision trees and tune them for achieve an accuracy score as high as possible. In particular my concern is to split the dataset two times, one to set the qualification of the job as the variable to be predicted and the other one to make a guess of what the graduation year is with supervised data.</p>"
   ]
  },
  {
   "cell_type": "code",
   "execution_count": 4,
   "metadata": {},
   "outputs": [
    {
     "name": "stdout",
     "output_type": "stream",
     "text": [
      "0    1.0\n",
      "1    0.0\n",
      "2    0.0\n",
      "3    0.0\n",
      "4    0.0\n",
      "Name: WorkLevel, dtype: float64\n",
      "   Analista Finanziario/Economico  Analista informatico  Arte  \\\n",
      "0                               0                     0     0   \n",
      "1                               0                     0     0   \n",
      "2                               0                     0     0   \n",
      "3                               0                     0     0   \n",
      "4                               0                     0     0   \n",
      "\n",
      "   Assistente sociale  Autore  Banca  Commerciale  Commercialista  \\\n",
      "0                   0       0      0            0               0   \n",
      "1                   0       0      0            0               0   \n",
      "2                   0       0      0            0               0   \n",
      "3                   0       0      0            0               0   \n",
      "4                   0       0      0            0               0   \n",
      "\n",
      "   Comunicazione  Consulente Finanziario/Economico  ...  Lingue  \\\n",
      "0              0                                 0  ...       0   \n",
      "1              0                                 0  ...       0   \n",
      "2              0                                 0  ...       0   \n",
      "3              0                                 0  ...       0   \n",
      "4              0                                 0  ...       0   \n",
      "\n",
      "   Matematica e Fisica  Scienze della comunicazione  Scienze politiche  \\\n",
      "0                    0                            0                  0   \n",
      "1                    0                            0                  1   \n",
      "2                    0                            0                  0   \n",
      "3                    0                            0                  0   \n",
      "4                    0                            0                  0   \n",
      "\n",
      "   Statistica  F  M  InfoDeg  enrollmentYears  graduationYears  \n",
      "0           0  1  0      1.0             2015             2017  \n",
      "1           0  0  1      0.0             2014             2016  \n",
      "2           0  1  0      1.0             2017             2020  \n",
      "3           0  0  1      0.0             2016             2021  \n",
      "4           0  0  1      1.0             2019             2020  \n",
      "\n",
      "[5 rows x 50 columns]\n"
     ]
    }
   ],
   "source": [
    "yw, Xw = X_p.loc[:, 'WorkLevel'], X_p.drop(columns = ['WorkLevel'])\n",
    "\n",
    "print(yw.head())\n",
    "print(Xw.head())"
   ]
  },
  {
   "cell_type": "markdown",
   "metadata": {},
   "source": [
    "<p>In the chunck of code above as already stated i set the WorkLevel as label to be predicted in order to asses the accuracy of the decision trees given the scraped data.</p> "
   ]
  },
  {
   "cell_type": "code",
   "execution_count": 5,
   "metadata": {},
   "outputs": [
    {
     "name": "stdout",
     "output_type": "stream",
     "text": [
      "accuracy on test set is 72.90%\n",
      "19\n"
     ]
    }
   ],
   "source": [
    "Xw_train, Xw_test, yw_train, yw_test = train_test_split(Xw, yw)\n",
    "\n",
    "clf = DecisionTreeClassifier(criterion='entropy', random_state=random_state)\n",
    "clf.fit(Xw_train, yw_train)\n",
    "\n",
    "yw_t_pred = clf.predict(Xw_test)\n",
    "accuracy_test = accuracy_score(yw_test, yw_t_pred) * 100\n",
    "print(f'accuracy on test set is {accuracy_test:.2f}%')\n",
    "max_depth = clf.tree_.max_depth\n",
    "print(max_depth)"
   ]
  },
  {
   "cell_type": "markdown",
   "metadata": {},
   "source": [
    "<p>In order to train the decision tree with the set variable i splitted the data with train test split and train on the training set making a first test to set the max depth that i use to tune the tree </p>"
   ]
  },
  {
   "cell_type": "code",
   "execution_count": 6,
   "metadata": {},
   "outputs": [
    {
     "name": "stdout",
     "output_type": "stream",
     "text": [
      "[70.09345794392523, 72.89719626168224, 72.89719626168224, 77.57009345794393, 74.76635514018692, 72.89719626168224, 72.89719626168224, 72.89719626168224, 70.09345794392523, 72.89719626168224, 76.63551401869158, 74.76635514018692, 76.63551401869158, 73.83177570093457, 76.63551401869158, 75.70093457943925, 72.89719626168224, 72.89719626168224, 72.89719626168224]\n",
      "max depth of tuned decision tree is 3\n"
     ]
    }
   ],
   "source": [
    "scores = []\n",
    "hyper_par = range(1, max_depth+1)\n",
    "for depth in hyper_par:\n",
    "    clf = DecisionTreeClassifier(criterion = 'entropy', max_depth=depth, random_state=random_state)\n",
    "    clf.fit(Xw_train, yw_train)\n",
    "    yw_pred_test = clf.predict(Xw_test)\n",
    "    scores.append(accuracy_score(yw_test, yw_pred_test) * 100)\n",
    "    \n",
    "print(scores)\n",
    "print(f\"max depth of tuned decision tree is {np.argmax(scores)}\")"
   ]
  },
  {
   "cell_type": "code",
   "execution_count": 7,
   "metadata": {},
   "outputs": [
    {
     "name": "stdout",
     "output_type": "stream",
     "text": [
      "77.57009345794393\n",
      "max accuracy achieved with tuned decision tree is 77.6%\n"
     ]
    },
    {
     "data": {
      "text/plain": [
       "4"
      ]
     },
     "execution_count": 7,
     "metadata": {},
     "output_type": "execute_result"
    }
   ],
   "source": [
    "depth = np.argmax(scores)\n",
    "clf = DecisionTreeClassifier(criterion = 'entropy', max_depth=depth+1, random_state=random_state)\n",
    "clf.fit(Xw_train, yw_train)\n",
    "yw_pred_test = clf.predict(Xw_test)\n",
    "accuracy_t = accuracy_score(yw_test, yw_pred_test)*100\n",
    "print(accuracy_t)\n",
    "print(f'max accuracy achieved with tuned decision tree is {accuracy_t:.1f}%')\n",
    "clf.get_depth()"
   ]
  },
  {
   "cell_type": "markdown",
   "metadata": {},
   "source": [
    "<p>\n",
    "In the code above i proceeded on looping over the trained decision tree with different depths in order to find the optimal one that could give the best accuracy score possible. This resulted into a slicely increased accuracy going from a 72.9 percentage to a final 77.6 percentage of accuracy to predict the level of work expected for the given data.\n",
    "</p>"
   ]
  },
  {
   "cell_type": "code",
   "execution_count": 9,
   "metadata": {},
   "outputs": [],
   "source": [
    "Xg, yg = X_p.drop(columns = ['graduationYears'], axis = 1), X_p.loc[:, 'graduationYears']"
   ]
  },
  {
   "cell_type": "markdown",
   "metadata": {},
   "source": [
    "<p>\n",
    "Here i set graduation years as the label to be predicted in order to asses what could be the accuracy score on a guess of the graduation year\n",
    "</p>"
   ]
  },
  {
   "cell_type": "code",
   "execution_count": 10,
   "metadata": {},
   "outputs": [
    {
     "name": "stdout",
     "output_type": "stream",
     "text": [
      "   Analista Finanziario/Economico  Analista informatico  Arte  \\\n",
      "0                               0                     0     0   \n",
      "1                               0                     0     0   \n",
      "2                               0                     0     0   \n",
      "3                               0                     0     0   \n",
      "4                               0                     0     0   \n",
      "\n",
      "   Assistente sociale  Autore  Banca  Commerciale  Commercialista  \\\n",
      "0                   0       0      0            0               0   \n",
      "1                   0       0      0            0               0   \n",
      "2                   0       0      0            0               0   \n",
      "3                   0       0      0            0               0   \n",
      "4                   0       0      0            0               0   \n",
      "\n",
      "   Comunicazione  Consulente Finanziario/Economico  ...  Lingue  \\\n",
      "0              0                                 0  ...       0   \n",
      "1              0                                 0  ...       0   \n",
      "2              0                                 0  ...       0   \n",
      "3              0                                 0  ...       0   \n",
      "4              0                                 0  ...       0   \n",
      "\n",
      "   Matematica e Fisica  Scienze della comunicazione  Scienze politiche  \\\n",
      "0                    0                            0                  0   \n",
      "1                    0                            0                  1   \n",
      "2                    0                            0                  0   \n",
      "3                    0                            0                  0   \n",
      "4                    0                            0                  0   \n",
      "\n",
      "   Statistica  F  M  InfoDeg  WorkLevel  enrollmentYears  \n",
      "0           0  1  0      1.0        1.0             2015  \n",
      "1           0  0  1      0.0        0.0             2014  \n",
      "2           0  1  0      1.0        0.0             2017  \n",
      "3           0  0  1      0.0        0.0             2016  \n",
      "4           0  0  1      1.0        0.0             2019  \n",
      "\n",
      "[5 rows x 50 columns]\n",
      "0    2017\n",
      "1    2016\n",
      "2    2020\n",
      "3    2021\n",
      "4    2020\n",
      "Name: graduationYears, dtype: int64\n"
     ]
    }
   ],
   "source": [
    "print(Xg.head())\n",
    "print(yg.head())"
   ]
  },
  {
   "cell_type": "code",
   "execution_count": 19,
   "metadata": {},
   "outputs": [],
   "source": [
    "xg_train, xg_test, yg_train, yg_test = train_test_split(Xg, yg)"
   ]
  },
  {
   "cell_type": "code",
   "execution_count": 31,
   "metadata": {},
   "outputs": [
    {
     "name": "stdout",
     "output_type": "stream",
     "text": [
      "The accuracy on the training set is 48.60%\n",
      "15\n"
     ]
    }
   ],
   "source": [
    "clf = DecisionTreeClassifier(criterion = 'entropy', random_state=random_state)\n",
    "clf.fit(xg_train, yg_train)\n",
    "yg_pred = clf.predict(xg_test)\n",
    "accuracy = accuracy_score(yg_test, yg_pred) * 100\n",
    "print(f'The accuracy on the test set is {accuracy:.2f}%')\n",
    "depth = clf.tree_.max_depth\n",
    "print(clf.tree_.max_depth)"
   ]
  },
  {
   "cell_type": "code",
   "execution_count": 38,
   "metadata": {},
   "outputs": [
    {
     "name": "stdout",
     "output_type": "stream",
     "text": [
      "max depth of tuned decision tree is 5\n"
     ]
    }
   ],
   "source": [
    "pars = range(1, depth+1)\n",
    "scores = []\n",
    "\n",
    "for par in pars:\n",
    "    clf = DecisionTreeClassifier(criterion = 'entropy', max_depth=par)\n",
    "    clf.fit(xg_train, yg_train)\n",
    "    yg_pred = clf.predict(xg_test)\n",
    "    scores.append(accuracy_score(yg_test, yg_pred)*100)\n",
    "    \n",
    "best_depth = np.argmax(scores)+1 \n",
    "print(f'max depth of tuned decision tree is {best_depth}')"
   ]
  },
  {
   "cell_type": "code",
   "execution_count": 40,
   "metadata": {},
   "outputs": [
    {
     "name": "stdout",
     "output_type": "stream",
     "text": [
      "max accuracy achieved with tuned decision 52.34%\n"
     ]
    }
   ],
   "source": [
    "clf = DecisionTreeClassifier(criterion= 'entropy', max_depth = best_depth)\n",
    "clf.fit(xg_train, yg_train)\n",
    "yg_pred = clf.predict(xg_test)\n",
    "accuracy = accuracy_score(yg_pred,yg_test) * 100\n",
    "print(f'max accuracy achieved with tuned decision {accuracy:.2f}%')\n"
   ]
  },
  {
   "cell_type": "markdown",
   "metadata": {},
   "source": [
    "<p>As i made before i tuned the tree to achieve an increase of the performance as well</p>"
   ]
  },
  {
   "cell_type": "markdown",
   "metadata": {},
   "source": [
    "<h1>Clustering</h1>\n",
    "\n",
    "<p>In the code that follows i extracted a part of the dataset in order to group profiles based on Education and Job using clustering algorithm and i tried to asses the accuracy of the clustered label comparing the mismatch with clustering label that i handly picked</p>.\n",
    "\n",
    "<p>\n",
    "First of all i tried to give a visual glimpse of the pairs of job/education by using plotting a graph using the catplot library that associates descrete values with categorical data, in order to do that given that both the attributes where categorical i proceeded with a raw transformation of jobs into numerical labels.   \n",
    "</p>"
   ]
  },
  {
   "cell_type": "code",
   "execution_count": 4,
   "metadata": {},
   "outputs": [
    {
     "data": {
      "text/plain": [
       "<seaborn.axisgrid.FacetGrid at 0x159e9f980d0>"
      ]
     },
     "execution_count": 4,
     "metadata": {},
     "output_type": "execute_result"
    },
    {
     "data": {
      "image/png": "[encoded data removed]",
      "text/plain": [
       "<Figure size 360x360 with 1 Axes>"
      ]
     },
     "metadata": {
      "needs_background": "light"
     },
     "output_type": "display_data"
    }
   ],
   "source": [
    "df2 = df1.loc[:, ['Education', 'Job']]\n",
    "df2.head()\n",
    "\n",
    "df2.Job = df2.Job.astype('category').cat.codes\n",
    "df2.head()\n",
    "\n",
    "sbn.catplot(x = 'Education', y= 'Job', data = df2)"
   ]
  },
  {
   "cell_type": "code",
   "execution_count": 5,
   "metadata": {},
   "outputs": [],
   "source": [
    "from kmodes.kmodes import KModes\n",
    "import matplotlib.pyplot as plt"
   ]
  },
  {
   "cell_type": "code",
   "execution_count": 6,
   "metadata": {
    "scrolled": true
   },
   "outputs": [
    {
     "data": {
      "image/png": "[encoded data removed]",
      "text/plain": [
       "<Figure size 432x288 with 1 Axes>"
      ]
     },
     "metadata": {
      "needs_background": "light"
     },
     "output_type": "display_data"
    }
   ],
   "source": [
    "df_clus = df1.loc[:, ['Job','Education']]\n",
    "cost = []\n",
    "\n",
    "cluster = range(3, 23)\n",
    "for k in cluster:\n",
    "    kmode = KModes(n_clusters=k)\n",
    "    kmode.fit_predict(df_clus)\n",
    "    cost.append(kmode.cost_)\n",
    "    \n",
    "plt.plot(cluster, cost, 'bx-')\n",
    "plt.xlabel('No. of clusters')\n",
    "plt.ylabel('Cost')\n",
    "plt.title('Elbow Method For Optimal k')\n",
    "plt.show()"
   ]
  },
  {
   "cell_type": "markdown",
   "metadata": {},
   "source": [
    "<p>To perform clustering since i picked categorical data i used a variance of KMeans fitted to work on nominal data which is KModes, then i used the Elbow method to asses the optimal number of clusters.</p>"
   ]
  },
  {
   "cell_type": "code",
   "execution_count": 7,
   "metadata": {},
   "outputs": [],
   "source": [
    "k = 13\n",
    "kmode = KModes(n_clusters = k)\n",
    "clusters = kmode.fit_predict(df_clus)"
   ]
  },
  {
   "cell_type": "code",
   "execution_count": 9,
   "metadata": {},
   "outputs": [],
   "source": [
    "df_clus['clusters'] = clusters\n",
    "df_clus.head()\n",
    "\n",
    "df_clus.to_csv('cluster.csv')"
   ]
  },
  {
   "cell_type": "code",
   "execution_count": 8,
   "metadata": {},
   "outputs": [
    {
     "data": {
      "text/plain": [
       "<seaborn.axisgrid.FacetGrid at 0x2c6738f72b0>"
      ]
     },
     "execution_count": 8,
     "metadata": {},
     "output_type": "execute_result"
    },
    {
     "data": {
      "image/png": "[encoded data removed]",
      "text/plain": [
       "<Figure size 408.75x360 with 1 Axes>"
      ]
     },
     "metadata": {
      "needs_background": "light"
     },
     "output_type": "display_data"
    }
   ],
   "source": [
    "df_clus['JobLab'] = df_clus.Job.astype('category').cat.codes\n",
    "\n",
    "sbn.catplot(x = 'Education', y = 'JobLab', hue = 'clusters', data = df_clus)"
   ]
  },
  {
   "cell_type": "markdown",
   "metadata": {},
   "source": [
    "<p>As I've done before i printed out the same plot setting clusters label as hue in order to give a visual glimpse of grouped profile</p>"
   ]
  },
  {
   "cell_type": "code",
   "execution_count": 16,
   "metadata": {
    "scrolled": false
   },
   "outputs": [],
   "source": [
    "from functools import partial\n",
    "\n",
    "clusterFile = 'cluster.json'\n",
    "clusterWrapper = {}\n",
    "\n",
    "with open(clusterFile) as json_cluster_wrapper:\n",
    "    clusterWrapper = json.load(json_cluster_wrapper)\n",
    "    \n",
    "expected_cluster = list(map(partial(inDict, dictionary=clusterWrapper), df_clus.Job))\n",
    "\n",
    "df_clus['expected'] = np.array(expected_cluster).astype('int32')"
   ]
  },
  {
   "cell_type": "code",
   "execution_count": 19,
   "metadata": {},
   "outputs": [
    {
     "name": "stdout",
     "output_type": "stream",
     "text": [
      "427\n",
      "48.47775175644028\n"
     ]
    }
   ],
   "source": [
    "corrected = sum(map(lambda x, y: x == y, df_clus.expected, df_clus.clusters))\n",
    "\n",
    "row, _ = df_clus.shape\n",
    "accuracy = (corrected / row) * 100 "
   ]
  },
  {
   "cell_type": "markdown",
   "metadata": {},
   "source": [
    "While in this chunck of code i computed the accuracy verifying the mismatch with predicted clusters and expected cluster reaching an accuracy of 48.4%"
   ]
  }
 ],
 "metadata": {
  "kernelspec": {
   "display_name": "Python 3",
   "language": "python",
   "name": "python3"
  },
  "language_info": {
   "codemirror_mode": {
    "name": "ipython",
    "version": 3
   },
   "file_extension": ".py",
   "mimetype": "text/x-python",
   "name": "python",
   "nbconvert_exporter": "python",
   "pygments_lexer": "ipython3",
   "version": "3.8.3"
  }
 },
 "nbformat": 4,
 "nbformat_minor": 4
}
